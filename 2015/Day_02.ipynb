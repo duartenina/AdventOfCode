{
 "cells": [
  {
   "cell_type": "code",
   "execution_count": 1,
   "id": "73d40cdd-ffd4-49a1-a968-aa46cdb24860",
   "metadata": {},
   "outputs": [],
   "source": [
    "using Plots\n",
    "gr()\n",
    "theme(:dark)"
   ]
  },
  {
   "cell_type": "code",
   "execution_count": 2,
   "id": "55cd90b9-16d6-41c8-8d15-03d48da15acf",
   "metadata": {},
   "outputs": [],
   "source": [
    "dimensions = Array{Int}(undef, 0, 3)\n",
    "open(\"data\\\\day_02.txt\", \"r\") do file\n",
    "    for line in eachline(file)\n",
    "        parts = split(line, 'x')\n",
    "        dims = [parse(Int, p) for p in parts]\n",
    "        global dimensions = [dimensions ; permutedims(dims)]\n",
    "    end\n",
    "end"
   ]
  },
  {
   "cell_type": "markdown",
   "id": "f1b7d12c-8925-443e-a44d-95470871cf98",
   "metadata": {},
   "source": [
    "# Puzzle 1"
   ]
  },
  {
   "cell_type": "code",
   "execution_count": 3,
   "id": "f18c4c8e-952c-4428-b86d-928baf927455",
   "metadata": {},
   "outputs": [
    {
     "name": "stdout",
     "output_type": "stream",
     "text": [
      "1588178\n"
     ]
    }
   ],
   "source": [
    "total_area = 0\n",
    "for row in eachrow(dimensions)\n",
    "    w, l, h = row\n",
    "    # rect with w * l * h dimensions\n",
    "    # calculate total surface area + 1x area of smallest face \n",
    "    \n",
    "    area = 2 * w*l + 2 * l*h + 2 * w*h\n",
    "    min_area_face = prod(row) ÷ maximum(row)\n",
    "    global total_area += area + min_area_face\n",
    "end\n",
    "println(total_area)"
   ]
  },
  {
   "cell_type": "markdown",
   "id": "2b8feb2a-24c3-4de2-8bc8-194731cf642a",
   "metadata": {},
   "source": [
    "# Puzzle 2"
   ]
  },
  {
   "cell_type": "code",
   "execution_count": 4,
   "id": "9be5f14d-6857-40cc-a806-a14c288f68cd",
   "metadata": {},
   "outputs": [
    {
     "name": "stdout",
     "output_type": "stream",
     "text": [
      "3783758\n"
     ]
    }
   ],
   "source": [
    "total_length = 0\n",
    "for row in eachrow(dimensions)\n",
    "    w, l, h = row\n",
    "    # rect with w * l * h dimensions\n",
    "    # calculate perimeter of smallest face + volume\n",
    "    \n",
    "    min_perimeter = 2 * (sum(row) - maximum(row))\n",
    "    volume = prod(row)\n",
    "    \n",
    "    global total_length += volume + min_perimeter\n",
    "end\n",
    "println(total_length)"
   ]
  },
  {
   "cell_type": "code",
   "execution_count": null,
   "id": "e57edba0-4755-405d-a556-0d2d817479d3",
   "metadata": {},
   "outputs": [],
   "source": []
  }
 ],
 "metadata": {
  "kernelspec": {
   "display_name": "Julia 1.7.0",
   "language": "julia",
   "name": "julia-1.7"
  },
  "language_info": {
   "file_extension": ".jl",
   "mimetype": "application/julia",
   "name": "julia",
   "version": "1.7.0"
  }
 },
 "nbformat": 4,
 "nbformat_minor": 5
}
