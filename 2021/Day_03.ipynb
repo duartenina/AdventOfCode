{
 "cells": [
  {
   "cell_type": "code",
   "execution_count": 1,
   "id": "6fadcfe6-3bec-44f7-ac5c-d80d0fed9b11",
   "metadata": {},
   "outputs": [],
   "source": [
    "using DelimitedFiles\n",
    "using Statistics"
   ]
  },
  {
   "cell_type": "code",
   "execution_count": 2,
   "id": "a5617041-84e4-4d31-8c16-8a91842458fe",
   "metadata": {},
   "outputs": [
    {
     "data": {
      "text/plain": [
       "(1000, 12)"
      ]
     },
     "execution_count": 2,
     "metadata": {},
     "output_type": "execute_result"
    }
   ],
   "source": [
    "open(\"data\\\\day_03.txt\", \"r\") do file\n",
    "    n_lines = countlines(file)\n",
    "    seek(file, 0)\n",
    "    n_cols = length(readline(file))\n",
    "    seek(file, 0)\n",
    "    \n",
    "    global data = Matrix{Bool}(undef, n_lines, n_cols)\n",
    "    \n",
    "    for (row, line) in enumerate(eachline(file))\n",
    "        for (col, c) in enumerate(line)\n",
    "            data[row, col] = parse(Int8, c)\n",
    "        end\n",
    "    end\n",
    "end\n",
    "n_rows, n_cols = size(data)"
   ]
  },
  {
   "cell_type": "markdown",
   "id": "99ead574-e6bb-4c83-8841-b6ff102808e1",
   "metadata": {},
   "source": [
    "# Puzzle 1"
   ]
  },
  {
   "cell_type": "code",
   "execution_count": 3,
   "id": "79dd612d-479e-4830-84bb-c523d508920b",
   "metadata": {},
   "outputs": [
    {
     "name": "stdout",
     "output_type": "stream",
     "text": [
      "max_number = 4095\n",
      "most_common = Bool[0, 0, 1, 0, 1, 0, 0, 0, 1, 1, 1, 0]\n"
     ]
    }
   ],
   "source": [
    "max_number = 2^n_cols - 1\n",
    "@show max_number\n",
    "most_common = [count(col) > (n_rows ÷ 2) for col in eachcol(data)]\n",
    "@show most_common;"
   ]
  },
  {
   "cell_type": "code",
   "execution_count": 4,
   "id": "3aa0307d-018e-43ce-b4ea-6e103e438ac4",
   "metadata": {},
   "outputs": [
    {
     "name": "stdout",
     "output_type": "stream",
     "text": [
      "gamma = 654\n",
      "epsilon = 3441\n",
      "power = 2250414\n"
     ]
    }
   ],
   "source": [
    "gamma = evalpoly(2, most_common[end:-1:1])\n",
    "@show gamma\n",
    "\n",
    "epsilon = max_number - gamma\n",
    "@show epsilon\n",
    "\n",
    "power = gamma * epsilon\n",
    "@show power;"
   ]
  },
  {
   "cell_type": "markdown",
   "id": "e6d39872-193a-4e70-a6d7-25cd3f55beb8",
   "metadata": {},
   "source": [
    "# Puzzle 2"
   ]
  },
  {
   "cell_type": "code",
   "execution_count": 5,
   "id": "b2ed02ba-291d-48c1-96ce-7fc3d24b2381",
   "metadata": {},
   "outputs": [
    {
     "name": "stdout",
     "output_type": "stream",
     "text": [
      "new_data = Bool[0 1 1 1 1 0 0 0 1 1 1 1]\n",
      "oxygen = 1935\n"
     ]
    }
   ],
   "source": [
    "col_ind = 1\n",
    "new_data = data\n",
    "while (size(new_data)[1] > 1)# & (col_ind <= 12)\n",
    "    #@show size(new_data)\n",
    "    #@show col_ind\n",
    "    col = new_data[:, col_ind]\n",
    "    n_ones = count(col)\n",
    "    #@show n_ones\n",
    "    n_zeros = length(col) - n_ones\n",
    "    #@show n_zeros\n",
    "\n",
    "    digit = (2 * n_ones) >= length(col)\n",
    "    #@show Int(digit)\n",
    "\n",
    "    new_data = new_data[new_data[:, col_ind] .== digit, :]\n",
    "    #@show new_data\n",
    "    col_ind += 1\n",
    "    #println(\"\")\n",
    "end\n",
    "@show new_data\n",
    "oxygen = evalpoly(2, new_data[end:-1:1])\n",
    "@show oxygen\n",
    ";"
   ]
  },
  {
   "cell_type": "code",
   "execution_count": 6,
   "id": "47f448d4-9f69-4671-9824-d4e63858e7d1",
   "metadata": {},
   "outputs": [
    {
     "name": "stdout",
     "output_type": "stream",
     "text": [
      "new_data = Bool[1 1 0 0 0 1 0 0 1 0 0 1]\n",
      "co2 = 3145\n"
     ]
    }
   ],
   "source": [
    "col_ind = 1\n",
    "new_data = data\n",
    "while (size(new_data)[1] > 1)# & (col_ind <= 12)\n",
    "    #@show size(new_data)\n",
    "    #@show col_ind\n",
    "    col = new_data[:, col_ind]\n",
    "    n_ones = count(col)\n",
    "    #@show n_ones\n",
    "    n_zeros = length(col) - n_ones\n",
    "    #@show n_zeros\n",
    "\n",
    "    digit = (2 * n_ones) < length(col)\n",
    "    #@show Int(digit)\n",
    "\n",
    "    new_data = new_data[new_data[:, col_ind] .== digit, :]\n",
    "    #@show new_data\n",
    "    col_ind += 1\n",
    "    #println(\"\")\n",
    "end\n",
    "@show new_data\n",
    "co2 = evalpoly(2, new_data[end:-1:1])\n",
    "@show co2\n",
    ";"
   ]
  },
  {
   "cell_type": "code",
   "execution_count": 7,
   "id": "33ef89e2-2097-4337-9500-1611d03f3129",
   "metadata": {},
   "outputs": [
    {
     "data": {
      "text/plain": [
       "6085575"
      ]
     },
     "execution_count": 7,
     "metadata": {},
     "output_type": "execute_result"
    }
   ],
   "source": [
    "oxygen * co2"
   ]
  },
  {
   "cell_type": "code",
   "execution_count": null,
   "id": "9a02fc88-9368-414f-9568-e141d1b1cfc5",
   "metadata": {},
   "outputs": [],
   "source": []
  }
 ],
 "metadata": {
  "kernelspec": {
   "display_name": "Julia 1.7.0",
   "language": "julia",
   "name": "julia-1.7"
  },
  "language_info": {
   "file_extension": ".jl",
   "mimetype": "application/julia",
   "name": "julia",
   "version": "1.7.0"
  }
 },
 "nbformat": 4,
 "nbformat_minor": 5
}
