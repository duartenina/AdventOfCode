{
 "cells": [
  {
   "cell_type": "code",
   "execution_count": 1,
   "id": "5f168fc1-8790-4f16-83f4-c6a8d2140da5",
   "metadata": {},
   "outputs": [],
   "source": [
    "using DataStructures"
   ]
  },
  {
   "cell_type": "code",
   "execution_count": 2,
   "id": "24c4ce9d-4146-45b5-b33f-23592201e688",
   "metadata": {},
   "outputs": [
    {
     "data": {
      "text/plain": [
       "200×2 Matrix{String}:\n",
       " \"fdceba bafdgc abeg afbdgec gbeacd abced bgc fcdge bg bedgc\"  …  \"bafdec cgefd gcebd ebcgd\"\n",
       " \"gbfac fegbda fcedagb bea ea abcdef dgbfe gfabe dgea gbdfec\"     \"gdea bgefdc bea efdbg\"\n",
       " \"eg dagef gbcfeda ageb cegbfd gfe dbefa facdg abfged cedbaf\"     \"befda daefb egf gcdfa\"\n",
       " \"edgacfb gcfd dgb degfab bcega bdagc cgafbd fbacd gd fceabd\"     \"fbdac gd gdbcaf dgb\"\n",
       " \"eaf bedgaf dbafc bfceag fedcbg eafdcgb debfa ae adge gdebf\"     \"abcdfeg febdg ae daebf\"\n",
       " \"afbdc aefg ea edbacfg dbefg eab gcbfde abecgd bgefad bfdae\"  …  \"gfea bfdea gbdef fcdebg\"\n",
       " \"deagf daegc dcgabe abcgdfe gc cabg fedgbc cdg dcafeb ecabd\"     \"ebfcdg gcade cfegdb dcg\"\n",
       " \"agecd bdegca cfea af abdgef fbcaedg gaf dgcfb fadgce afdcg\"     \"fadgcbe ecadg bgefad fag\"\n",
       " \"degcba cfbge cdgaefb gbecfd ae gafdc gfcaeb beaf cae cefag\"     \"feba abdcge becagdf bagefdc\"\n",
       " \"bfcga ecgdbaf facedg cdfae abecf eb dbae ebf ebcdfg cefabd\"     \"bafec ebf afdce egadfc\"\n",
       " \"cfaegbd adbecg ebgca debafg cdfge fa afg cafb fgaec afbcge\"  …  \"gcbaef cdfeg efgacb gaecb\"\n",
       " \"efacdg egdbfca bcdagf ceadg dface daf bafec dfeg fd cdgabe\"     \"efbca cdgae daebcg geafdc\"\n",
       " \"beg dgfab geaf gdeab fbcagd efdbcag cbdefg edbgfa ge baced\"     \"gdfab ge gcbdfa badfg\"\n",
       " ⋮                                                             ⋱  \n",
       " \"bdagec ecbfa daebc gafcb cgdfea efa fdeb dceafb ef gcfdabe\"     \"efcba cabged gfabc fbacde\"\n",
       " \"fe gfabe dbaceg aegcbdf dfcbea fcabg deagb gfde edagbf efa\"     \"aedcfb efa afe fe\"\n",
       " \"adfceb eb gdeb fegbda bcfagd fbe agbdf fgeac gafeb defbacg\"  …  \"ebafg feb agfbe bgde\"\n",
       " \"cgdaeb ade agbcefd adfecb febad aecfb efgabc fadgb ed fecd\"     \"acbgef facbe cgbafe deabf\"\n",
       " \"bfc fabdgc agcbe dfeac fdabceg ecabf fb bdfe edfcag bdfeca\"     \"fb cadebf gdabfc cfbdga\"\n",
       " \"cfbdge adegfbc cdgeab fbg gedf baecgf bcfda fg cdbge cdgbf\"     \"fdge gbecd egfbca cfadb\"\n",
       " \"dbcfeag gecda bed eb dfcab abeg agfced dcebfg adgceb abecd\"     \"be gabe bed fbdac\"\n",
       " \"fbagec ecfga fgdac ec cbfe agbef gce aefgbd fcgbdae gdaceb\"  …  \"fbadge cfgda gfbace egcaf\"\n",
       " \"bdcfge cbaefgd cagbde fecab fdecga gafd dfe fd gdace edafc\"     \"efd daecf cdaefg eacbf\"\n",
       " \"cefgda daefc agecfb fce cgdbefa dfcga dbaef ce badgcf gced\"     \"fbdgcea ebafd gdefacb fdcag\"\n",
       " \"ebagd fb fbgd cefda ebcagf cgfbade afegdb bdagce bef badfe\"     \"ebafgd bfdgea ecdfa bfdcega\"\n",
       " \"gcedb fdcb aebgcd bf fcgabe cfbaedg fdbceg bfegd aedgf gbf\"     \"bfg cdgeb fdebg cebdg\""
      ]
     },
     "execution_count": 2,
     "metadata": {},
     "output_type": "execute_result"
    }
   ],
   "source": [
    "open(\"data\\\\day_08.txt\", \"r\") do file\n",
    "   global lines = readlines(file)\n",
    "end\n",
    "\n",
    "split_lines = split.(lines, \" | \")\n",
    "\n",
    "displays = Matrix{String}(undef, length(lines), 2)\n",
    "displays[:, 1] = [l[1] for l in split_lines]\n",
    "displays[:, 2] = [l[2] for l in split_lines]\n",
    "displays"
   ]
  },
  {
   "cell_type": "code",
   "execution_count": 3,
   "id": "49c64098-5178-470a-96b2-ff2f1916b7b4",
   "metadata": {},
   "outputs": [
    {
     "name": "stdout",
     "output_type": "stream",
     "text": [
      "numbers_segments_bijection = Dict{Any, Any}(5 => \"ABDFG\", \"ABCEFG\" => 0, \"ABCDFG\" => 9, 8 => \"ABCDEFG\", 1 => \"CF\", 0 => \"ABCEFG\", 6 => \"ABDEFG\", 9 => \"ABCDFG\", \"BCDF\" => 4, 3 => \"ACDFG\", \"ACF\" => 7, \"ACDFG\" => 3, \"ACDEG\" => 2, \"CF\" => 1, 7 => \"ACF\", \"ABCDEFG\" => 8, \"ABDFG\" => 5, 4 => \"BCDF\", 2 => \"ACDEG\", \"ABDEFG\" => 6)\n"
     ]
    },
    {
     "data": {
      "text/plain": [
       "10-element Vector{Pair{Any, Any}}:\n",
       " 1 => 2\n",
       " 7 => 3\n",
       " 4 => 4\n",
       " 2 => 5\n",
       " 3 => 5\n",
       " 5 => 5\n",
       " 0 => 6\n",
       " 6 => 6\n",
       " 9 => 6\n",
       " 8 => 7"
      ]
     },
     "execution_count": 3,
     "metadata": {},
     "output_type": "execute_result"
    }
   ],
   "source": [
    "numbers_segments = Dict(\n",
    "    0 => \"ABCEFG\",\n",
    "    1 => \"CF\",\n",
    "    2 => \"ACDEG\",\n",
    "    3 => \"ACDFG\",\n",
    "    4 => \"BCDF\",\n",
    "    5 => \"ABDFG\",\n",
    "    6 => \"ABDEFG\",\n",
    "    7 => \"ACF\",\n",
    "    8 => \"ABCDEFG\",\n",
    "    9 => \"ABCDFG\",\n",
    ")\n",
    "numbers_segments_bijection = merge(numbers_segments, Dict(v => k for (k,v) in numbers_segments))\n",
    "@show numbers_segments_bijection\n",
    "numbers_segment_count = SortedDict(k => length(v) for (k, v) in numbers_segments)\n",
    "sort(collect(numbers_segment_count), by = x -> x[2])\n",
    "#numbers_segment_count = transpose(hcat(numbers_segment_count...))\n",
    "#@show sortslices(numbers_segment_count, dims=1)\n",
    "#sortslices(numbers_segment_count, dims=1, by = x -> x[2])"
   ]
  },
  {
   "cell_type": "markdown",
   "id": "5024543e-13de-42d6-a5fe-619219d4b7d9",
   "metadata": {},
   "source": [
    "# Puzzle 1"
   ]
  },
  {
   "cell_type": "code",
   "execution_count": 4,
   "id": "23fff451-a0ad-404f-bc27-980ccfb0acbb",
   "metadata": {},
   "outputs": [
    {
     "data": {
      "text/plain": [
       "200×4 transpose(::Matrix{Int64}) with eltype Int64:\n",
       " 6  5  5  5\n",
       " 4  6  3  5\n",
       " 5  5  3  5\n",
       " 5  2  6  3\n",
       " 7  5  2  5\n",
       " 4  5  5  6\n",
       " 6  5  6  3\n",
       " 7  5  6  3\n",
       " 4  6  7  7\n",
       " 5  3  5  6\n",
       " 6  5  6  5\n",
       " 5  5  6  6\n",
       " 5  2  6  5\n",
       " ⋮        \n",
       " 5  6  5  6\n",
       " 6  3  3  2\n",
       " 5  3  5  4\n",
       " 6  5  6  5\n",
       " 2  6  6  6\n",
       " 4  5  6  5\n",
       " 2  4  3  5\n",
       " 6  5  6  5\n",
       " 3  5  6  5\n",
       " 7  5  7  5\n",
       " 6  6  5  7\n",
       " 3  5  5  5"
      ]
     },
     "execution_count": 4,
     "metadata": {},
     "output_type": "execute_result"
    }
   ],
   "source": [
    "display_counts = map.(length, split.(displays[:, 2], \" \"))\n",
    "display_counts = transpose(hcat(display_counts...))"
   ]
  },
  {
   "cell_type": "code",
   "execution_count": 5,
   "id": "77a1b5b9-941b-438d-a594-1476ac26904d",
   "metadata": {},
   "outputs": [
    {
     "name": "stdout",
     "output_type": "stream",
     "text": [
      "1 56\n",
      "7 64\n",
      "4 65\n",
      "8 70\n",
      "total = 255\n"
     ]
    }
   ],
   "source": [
    "total = 0\n",
    "for number in [1, 7, 4, 8]\n",
    "    c = count(display_counts .== numbers_segment_count[number])\n",
    "    println(number, \" \", c)\n",
    "    total += c\n",
    "end\n",
    "@show total\n",
    ";"
   ]
  },
  {
   "cell_type": "markdown",
   "id": "071d63ae-f6ea-4c98-aa51-5f5fa8c2bf77",
   "metadata": {},
   "source": [
    "# Puzzle 2"
   ]
  },
  {
   "cell_type": "code",
   "execution_count": 6,
   "id": "2218571f-c67f-46ed-aa51-ed64a0b27329",
   "metadata": {},
   "outputs": [
    {
     "name": "stdout",
     "output_type": "stream",
     "text": [
      "numbers_segments = Dict(0 => \"ABCEFG\", 4 => \"BCDF\", 5 => \"ABDFG\", 6 => \"ABDEFG\", 2 => \"ACDEG\", 7 => \"ACF\", 9 => \"ABCDFG\", 8 => \"ABCDEFG\", 3 => \"ACDFG\", 1 => \"CF\")\n"
     ]
    },
    {
     "data": {
      "text/plain": [
       "SortedDict{Any, Any, Base.Order.ForwardOrdering} with 10 entries:\n",
       "  0 => 6\n",
       "  1 => 2\n",
       "  2 => 5\n",
       "  3 => 5\n",
       "  4 => 4\n",
       "  5 => 5\n",
       "  6 => 6\n",
       "  7 => 3\n",
       "  8 => 7\n",
       "  9 => 6"
      ]
     },
     "execution_count": 6,
     "metadata": {},
     "output_type": "execute_result"
    }
   ],
   "source": [
    "@show numbers_segments\n",
    "numbers_segment_count"
   ]
  },
  {
   "cell_type": "markdown",
   "id": "b9d9ec53-922a-4d17-a2cd-2087832d35c9",
   "metadata": {},
   "source": [
    "### Segments\n",
    "\n",
    "```\n",
    "  1:2         7:3         4:4         2:5     3:5     5:5         0:6     6:6     9:6         8:7   \n",
    " ....        aaaa        ....        aaaa    aaaa    aaaa        aaaa    aaaa    aaaa        aaaa   \n",
    ".    c      .    c      b    c      .    c  .    c  b    .      b    c  b    .  b    c      b    c  \n",
    ".    c      .    c      b    c      .    c  .    c  b    .      b    c  b    .  b    c      b    c  \n",
    " ....        ....        dddd        dddd    dddd    dddd        ....    dddd    dddd        dddd   \n",
    ".    f      .    f      .    f      e    .  .    f  .    f      e    f  e    f  .    f      e    f  \n",
    ".    f      .    f      .    f      e    .  .    f  .    f      e    f  e    f  .    f      e    f  \n",
    " ....        ....        ....        gggg    gggg    gggg        gggg    gggg    gggg        gggg   \n",
    "```"
   ]
  },
  {
   "cell_type": "code",
   "execution_count": 7,
   "id": "d8755d39-f2a3-4977-bb75-fe8b10d66bab",
   "metadata": {},
   "outputs": [
    {
     "name": "stdout",
     "output_type": "stream",
     "text": [
      "d = [\"abcdefg\", \"bcdef\", \"acdfg\", \"abcdf\", \"abd\", \"abcdef\", \"bcdefg\", \"abef\", \"abcdeg\", \"ab\"]\n",
      "(s1, s7, s4, s8) = (\"ab\", \"abd\", \"abef\", \"abcdefg\")\n",
      "s235 = [\"bcdef\", \"acdfg\", \"abcdf\"]\n",
      "s069 = [\"abcdef\", \"bcdefg\", \"abcdeg\"]\n",
      "ADG = ['c', 'd', 'f']\n",
      "DG = ['c', 'f']\n",
      "CDE = ['g', 'a', 'f']\n",
      "CE = ['g', 'a']\n",
      "(A, B, C, D, E, F, G) = ('d', 'e', 'a', 'f', 'g', 'b', 'c')\n"
     ]
    }
   ],
   "source": [
    "function uncross_wires(signal_string; verbose=false)\n",
    "    d = String.(sort.(collect.(String.(split(signal_string, \" \")))))\n",
    "    l = length.(d)\n",
    "    if verbose\n",
    "        @show d\n",
    "    end\n",
    "\n",
    "    s1 = d[l .== 2][1]            # CF\n",
    "    s7 = d[l .== 3][1]            # ACF\n",
    "    s4 = d[l .== 4][1]            # BCDF\n",
    "    s8 = d[l .== 7][1]            # ABCDEFG\n",
    "    s235 = d[l .== 5]             # ACDEG   ACDFG   ABDFG\n",
    "    s069 = d[l .== 6]             # ABCEFG  ABDEFG  ABCDFG \n",
    "    if verbose\n",
    "        @show s1, s7, s4, s8\n",
    "        @show s235\n",
    "        @show s069\n",
    "    end\n",
    "\n",
    "    A = setdiff(s7, s1)[1]\n",
    "\n",
    "    ADG = intersect(s235...)\n",
    "    DG = setdiff(ADG, A)\n",
    "    if verbose\n",
    "        @show ADG\n",
    "        @show DG\n",
    "    end\n",
    "\n",
    "    D = intersect(DG, s4)[1]\n",
    "    G = setdiff(DG, D)[1]\n",
    "\n",
    "    CDE = [setdiff(s8, i)[1] for i in s069]\n",
    "    CE = setdiff(CDE, D)\n",
    "    if verbose\n",
    "        @show CDE\n",
    "        @show CE\n",
    "    end\n",
    "\n",
    "    C = intersect(s1, CE)[1]\n",
    "    E = setdiff(CE, C)[1]\n",
    "    F = setdiff(s1, C)[1]\n",
    "\n",
    "    B = setdiff(s8, [A, C, D, E, F, G])[1]\n",
    "    if verbose\n",
    "        @show A, B, C, D, E, F, G\n",
    "    end\n",
    "    \n",
    "    dict = Dict(\"A\" => A, \"B\" => B, \"C\" => C, \"D\" => D, \"E\" => E, \"F\" => F, \"G\" => G)\n",
    "    dict = merge(dict, Dict(v => k for (k,v) in dict))\n",
    "    \n",
    "    return dict\n",
    "end\n",
    "temp_key = uncross_wires(\"acedgfb cdfbe gcdfa fbcad dab cefabd cdfgeb eafb cagedb ab\", verbose=true);"
   ]
  },
  {
   "cell_type": "code",
   "execution_count": 8,
   "id": "cbd2503f-5a04-4e2c-9aa2-2f4997cebcea",
   "metadata": {},
   "outputs": [
    {
     "name": "stdout",
     "output_type": "stream",
     "text": [
      "decoded_string = \"GADBF DGCAF GADBF GAFCD\"\n",
      "digits = [\"ABDFG\", \"ACDFG\", \"ABDFG\", \"ACDFG\"]\n",
      "numbers = [5, 3, 5, 3]\n",
      "output = 5353\n"
     ]
    }
   ],
   "source": [
    "function decode_with_key(digit_string, key_wires; verbose=false)\n",
    "    decoded_string = join([c == ' ' ? \" \" : key_wires[c] for c in digit_string], \"\")\n",
    "    if verbose\n",
    "        @show decoded_string\n",
    "    end\n",
    "    \n",
    "    digits = String.(sort.(collect.(String.(split(decoded_string, ' ')))))\n",
    "    if verbose\n",
    "        @show digits\n",
    "    end\n",
    "    \n",
    "    numbers = [numbers_segments_bijection[d] for d in digits]\n",
    "    if verbose\n",
    "        @show numbers\n",
    "    end\n",
    "    \n",
    "    output = evalpoly(10, numbers[end:-1:1])\n",
    "    if verbose\n",
    "        @show output\n",
    "    end\n",
    "    \n",
    "    return output\n",
    "end\n",
    "decode_with_key(\"cdfeb fcadb cdfeb cdbaf\", temp_key, verbose=true);"
   ]
  },
  {
   "cell_type": "code",
   "execution_count": 9,
   "id": "39deecdd-ee9b-473a-a59e-9ccc0b8f9e12",
   "metadata": {},
   "outputs": [
    {
     "name": "stdout",
     "output_type": "stream",
     "text": [
      "key_wires = Dict{Any, Any}('f' => \"D\", \"C\" => 'a', 'd' => \"A\", 'e' => \"B\", \"B\" => 'e', \"A\" => 'd', 'a' => \"C\", 'c' => \"G\", \"D\" => 'f', \"G\" => 'c', \"E\" => 'g', 'g' => \"E\", \"F\" => 'b', 'b' => \"F\")\n",
      "output = 5353\n"
     ]
    }
   ],
   "source": [
    "key_wires = uncross_wires(\"acedgfb cdfbe gcdfa fbcad dab cefabd cdfgeb eafb cagedb ab\")\n",
    "@show key_wires\n",
    "\n",
    "output = decode_with_key(\"cdfeb fcadb cdfeb cdbaf\", key_wires)\n",
    "@show output\n",
    ";"
   ]
  },
  {
   "cell_type": "code",
   "execution_count": 10,
   "id": "7456f7c6-b90c-479b-bbb9-e727d1ea2c73",
   "metadata": {},
   "outputs": [
    {
     "name": "stdout",
     "output_type": "stream",
     "text": [
      "total = 982158\n"
     ]
    }
   ],
   "source": [
    "total = 0\n",
    "for (signals, digits) in eachrow(displays)\n",
    "    key_wires = uncross_wires(signals)\n",
    "    output = decode_with_key(digits, key_wires)\n",
    "    total += output\n",
    "end\n",
    "\n",
    "@show total\n",
    ";"
   ]
  },
  {
   "cell_type": "code",
   "execution_count": null,
   "id": "1ae49edd-ef7e-4565-8787-644691a2274c",
   "metadata": {},
   "outputs": [],
   "source": []
  }
 ],
 "metadata": {
  "kernelspec": {
   "display_name": "Julia 1.7.0",
   "language": "julia",
   "name": "julia-1.7"
  },
  "language_info": {
   "file_extension": ".jl",
   "mimetype": "application/julia",
   "name": "julia",
   "version": "1.7.0"
  }
 },
 "nbformat": 4,
 "nbformat_minor": 5
}
