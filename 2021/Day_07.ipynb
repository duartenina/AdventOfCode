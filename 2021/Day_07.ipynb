{
 "cells": [
  {
   "cell_type": "code",
   "execution_count": 1,
   "id": "05269447-29fe-4987-9433-5f2847411704",
   "metadata": {},
   "outputs": [],
   "source": [
    "using DelimitedFiles\n",
    "using Statistics, StatsBase\n",
    "using Printf"
   ]
  },
  {
   "cell_type": "code",
   "execution_count": 2,
   "id": "c10e4a91-ecb4-48a2-9464-7a176948eed2",
   "metadata": {},
   "outputs": [
    {
     "name": "stdout",
     "output_type": "stream",
     "text": [
      "minimum(positions) = 0\n",
      "maximum(positions) = 1788\n"
     ]
    }
   ],
   "source": [
    "positions = readdlm(\"data\\\\day_07.txt\", ',', Int, '\\n')\n",
    "@show minimum(positions)\n",
    "@show maximum(positions)\n",
    ";"
   ]
  },
  {
   "cell_type": "markdown",
   "id": "2fd84f12-7cff-4f02-bfb4-f3d53748e5b7",
   "metadata": {},
   "source": [
    "# Puzzle 1"
   ]
  },
  {
   "cell_type": "code",
   "execution_count": 3,
   "id": "c9828a56-2f7c-4010-8273-4133c3ab38ed",
   "metadata": {},
   "outputs": [
    {
     "name": "stdout",
     "output_type": "stream",
     "text": [
      "mean(positions) = 472.531\n",
      "median(positions) = 341.0\n",
      "mode(positions) = 65\n"
     ]
    }
   ],
   "source": [
    "@show mean(positions)\n",
    "@show median(positions)\n",
    "@show mode(positions)\n",
    ";"
   ]
  },
  {
   "cell_type": "code",
   "execution_count": 4,
   "id": "eee002b4-c9da-438f-b949-9b45f97dd6cd",
   "metadata": {},
   "outputs": [
    {
     "name": "stdout",
     "output_type": "stream",
     "text": [
      "sum(abs.(positions .- round(mean(positions)))) = 356903.0\n",
      "sum(abs.(positions .- median(positions))) = 344605.0\n",
      "sum(abs.(positions .- mode(positions))) = 419893\n"
     ]
    }
   ],
   "source": [
    "@show sum(abs.(positions .- round(mean(positions))))\n",
    "@show sum(abs.(positions .- median(positions)))\n",
    "@show sum(abs.(positions .- mode(positions)))\n",
    ";"
   ]
  },
  {
   "cell_type": "markdown",
   "id": "018d7e87-008a-424e-af97-5f7e823e5c7f",
   "metadata": {},
   "source": [
    "# Puzzle 2"
   ]
  },
  {
   "cell_type": "code",
   "execution_count": 5,
   "id": "eec4a14f-2656-494a-a732-d580e6f86922",
   "metadata": {},
   "outputs": [
    {
     "data": {
      "text/plain": [
       "total_cost (generic function with 1 method)"
      ]
     },
     "execution_count": 5,
     "metadata": {},
     "output_type": "execute_result"
    }
   ],
   "source": [
    "function total_cost(chosen_position)\n",
    "    diff_pos = abs.(positions .- Int(ceil(chosen_position)))\n",
    "    #@show diff_pos\n",
    "    costs = diff_pos .* (diff_pos .+ 1) .÷ 2\n",
    "    #@show costs\n",
    "    \n",
    "    return sum(costs)\n",
    "end"
   ]
  },
  {
   "cell_type": "code",
   "execution_count": 6,
   "id": "f01643ba-37e5-49a1-91ed-d528fe24ea7e",
   "metadata": {},
   "outputs": [
    {
     "name": "stdout",
     "output_type": "stream",
     "text": [
      "mean:   93700048\n",
      "mean-1: 93699985\n",
      "median: 102343991\n",
      "mode:   176772191\n"
     ]
    }
   ],
   "source": [
    "@printf \"mean:   %d\\n\" total_cost(mean(positions)) \n",
    "@printf \"mean-1: %d\\n\" total_cost(mean(positions)-1) \n",
    "@printf \"median: %d\\n\" total_cost(median(positions))\n",
    "@printf \"mode:   %d\\n\" total_cost(mode(positions))\n",
    ";"
   ]
  },
  {
   "cell_type": "code",
   "execution_count": null,
   "id": "6956eae1-1f01-4ad7-8d9d-6413ed99de78",
   "metadata": {},
   "outputs": [],
   "source": []
  }
 ],
 "metadata": {
  "kernelspec": {
   "display_name": "Julia 1.7.0",
   "language": "julia",
   "name": "julia-1.7"
  },
  "language_info": {
   "file_extension": ".jl",
   "mimetype": "application/julia",
   "name": "julia",
   "version": "1.7.0"
  }
 },
 "nbformat": 4,
 "nbformat_minor": 5
}
